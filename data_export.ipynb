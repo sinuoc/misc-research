{
 "cells": [
  {
   "cell_type": "code",
   "execution_count": 1,
   "metadata": {},
   "outputs": [],
   "source": [
    "\n",
    "import pandas as pd\n",
    "from matplotlib import pyplot as plt"
   ]
  },
  {
   "cell_type": "code",
   "execution_count": 2,
   "metadata": {},
   "outputs": [],
   "source": [
    "table = pd.read_csv(\"dominant_topics_copy.csv\")\n"
   ]
  },
  {
   "cell_type": "code",
   "execution_count": 11,
   "metadata": {},
   "outputs": [],
   "source": [
    "i = 1\n",
    "table2011 = table[table['Publication Year']==2000+i]"
   ]
  },
  {
   "cell_type": "code",
   "execution_count": 12,
   "metadata": {},
   "outputs": [
    {
     "name": "stdout",
     "output_type": "stream",
     "text": [
      "     Dominant_Topic                                     Topic_Keywords  \\\n",
      "310               6  information, time, method, problem, make, appr...   \n",
      "311               2  market, price, stock, return, volatility, evid...   \n",
      "312               1  financial, economic, economy, crisis, growth, ...   \n",
      "313              16  change, income, irish, tax, paper, household, ...   \n",
      "314               8  model, estimate, show, result, test, dynamic, ...   \n",
      "315               2  market, price, stock, return, volatility, evid...   \n",
      "316               9  country, international, trade, european, integ...   \n",
      "317              12  service, year, health, child, care, study, pro...   \n",
      "318              11  product, production, increase, farm, output, e...   \n",
      "319              16  change, income, irish, tax, paper, household, ...   \n",
      "320              13  risk, measure, performance, result, strategy, ...   \n",
      "321               9  country, international, trade, european, integ...   \n",
      "322               4  sector, investment, industry, role, foreign, i...   \n",
      "323              15  firm, effect, find, level, large, small, evide...   \n",
      "324               3  paper, relationship, finding, consumer, study,...   \n",
      "325              13  risk, measure, performance, result, strategy, ...   \n",
      "326              19  policy, government, state, public, development...   \n",
      "327              11  product, production, increase, farm, output, e...   \n",
      "328              13  risk, measure, performance, result, strategy, ...   \n",
      "329               8  model, estimate, show, result, test, dynamic, ...   \n",
      "330               0  datum, paper, analysis, provide, economic, reg...   \n",
      "331              14  system, energy, technology, design, environmen...   \n",
      "332               2  market, price, stock, return, volatility, evid...   \n",
      "333               4  sector, investment, industry, role, foreign, i...   \n",
      "334              15  firm, effect, find, level, large, small, evide...   \n",
      "335              13  risk, measure, performance, result, strategy, ...   \n",
      "336               2  market, price, stock, return, volatility, evid...   \n",
      "337               8  model, estimate, show, result, test, dynamic, ...   \n",
      "338              19  policy, government, state, public, development...   \n",
      "339              15  firm, effect, find, level, large, small, evide...   \n",
      "340               9  country, international, trade, european, integ...   \n",
      "341               9  country, international, trade, european, integ...   \n",
      "342               2  market, price, stock, return, volatility, evid...   \n",
      "343               2  market, price, stock, return, volatility, evid...   \n",
      "344               2  market, price, stock, return, volatility, evid...   \n",
      "345               3  paper, relationship, finding, consumer, study,...   \n",
      "346               8  model, estimate, show, result, test, dynamic, ...   \n",
      "347              13  risk, measure, performance, result, strategy, ...   \n",
      "348               1  financial, economic, economy, crisis, growth, ...   \n",
      "349              12  service, year, health, child, care, study, pro...   \n",
      "350               0  datum, paper, analysis, provide, economic, reg...   \n",
      "351              11  product, production, increase, farm, output, e...   \n",
      "352               2  market, price, stock, return, volatility, evid...   \n",
      "353              16  change, income, irish, tax, paper, household, ...   \n",
      "354              17  cost, show, structure, result, good, rule, red...   \n",
      "355              10  high, education, employment, labour, find, inc...   \n",
      "356              17  cost, show, structure, result, good, rule, red...   \n",
      "357              11  product, production, increase, farm, output, e...   \n",
      "358              10  high, education, employment, labour, find, inc...   \n",
      "359               4  sector, investment, industry, role, foreign, i...   \n",
      "360               8  model, estimate, show, result, test, dynamic, ...   \n",
      "361               7  social, study, research, explore, influence, e...   \n",
      "362              18  article, issue, argue, work, theory, social, h...   \n",
      "363               1  financial, economic, economy, crisis, growth, ...   \n",
      "364              15  firm, effect, find, level, large, small, evide...   \n",
      "365               4  sector, investment, industry, role, foreign, i...   \n",
      "366              14  system, energy, technology, design, environmen...   \n",
      "367              17  cost, show, structure, result, good, rule, red...   \n",
      "368              19  policy, government, state, public, development...   \n",
      "\n",
      "     Num_Documents  Perc_Documents  Publication Year  \n",
      "310            NaN             NaN              2001  \n",
      "311            NaN             NaN              2001  \n",
      "312            NaN             NaN              2001  \n",
      "313            NaN             NaN              2001  \n",
      "314            NaN             NaN              2001  \n",
      "315            NaN             NaN              2001  \n",
      "316            NaN             NaN              2001  \n",
      "317            NaN             NaN              2001  \n",
      "318            NaN             NaN              2001  \n",
      "319            NaN             NaN              2001  \n",
      "320            NaN             NaN              2001  \n",
      "321            NaN             NaN              2001  \n",
      "322            NaN             NaN              2001  \n",
      "323            NaN             NaN              2001  \n",
      "324            NaN             NaN              2001  \n",
      "325            NaN             NaN              2001  \n",
      "326            NaN             NaN              2001  \n",
      "327            NaN             NaN              2001  \n",
      "328            NaN             NaN              2001  \n",
      "329            NaN             NaN              2001  \n",
      "330            NaN             NaN              2001  \n",
      "331            NaN             NaN              2001  \n",
      "332            NaN             NaN              2001  \n",
      "333            NaN             NaN              2001  \n",
      "334            NaN             NaN              2001  \n",
      "335            NaN             NaN              2001  \n",
      "336            NaN             NaN              2001  \n",
      "337            NaN             NaN              2001  \n",
      "338            NaN             NaN              2001  \n",
      "339            NaN             NaN              2001  \n",
      "340            NaN             NaN              2001  \n",
      "341            NaN             NaN              2001  \n",
      "342            NaN             NaN              2001  \n",
      "343            NaN             NaN              2001  \n",
      "344            NaN             NaN              2001  \n",
      "345            NaN             NaN              2001  \n",
      "346            NaN             NaN              2001  \n",
      "347            NaN             NaN              2001  \n",
      "348            NaN             NaN              2001  \n",
      "349            NaN             NaN              2001  \n",
      "350            NaN             NaN              2001  \n",
      "351            NaN             NaN              2001  \n",
      "352            NaN             NaN              2001  \n",
      "353            NaN             NaN              2001  \n",
      "354            NaN             NaN              2001  \n",
      "355            NaN             NaN              2001  \n",
      "356            NaN             NaN              2001  \n",
      "357            NaN             NaN              2001  \n",
      "358            NaN             NaN              2001  \n",
      "359            NaN             NaN              2001  \n",
      "360            NaN             NaN              2001  \n",
      "361            NaN             NaN              2001  \n",
      "362            NaN             NaN              2001  \n",
      "363            NaN             NaN              2001  \n",
      "364            NaN             NaN              2001  \n",
      "365            NaN             NaN              2001  \n",
      "366            NaN             NaN              2001  \n",
      "367            NaN             NaN              2001  \n",
      "368            NaN             NaN              2001  \n"
     ]
    }
   ],
   "source": [
    "print(table2011)"
   ]
  },
  {
   "cell_type": "code",
   "execution_count": 10,
   "metadata": {},
   "outputs": [
    {
     "data": {
      "text/plain": [
       "2     8\n",
       "13    5\n",
       "8     5\n",
       "4     4\n",
       "15    4\n",
       "11    4\n",
       "9     4\n",
       "19    3\n",
       "17    3\n",
       "16    3\n",
       "1     3\n",
       "3     2\n",
       "10    2\n",
       "12    2\n",
       "14    2\n",
       "0     2\n",
       "6     1\n",
       "7     1\n",
       "18    1\n",
       "Name: Dominant_Topic, dtype: int64"
      ]
     },
     "execution_count": 10,
     "metadata": {},
     "output_type": "execute_result"
    }
   ],
   "source": [
    "pd.value_counts(table2011[\"Dominant_Topic\"])"
   ]
  },
  {
   "cell_type": "code",
   "execution_count": 7,
   "metadata": {},
   "outputs": [
    {
     "name": "stdout",
     "output_type": "stream",
     "text": [
      "\n",
      "\n",
      "\n",
      "\n",
      "\n",
      "\n",
      "\n",
      "\n",
      "\n",
      "\n",
      "\n",
      "\n",
      "\n",
      "\n",
      "\n",
      "\n",
      "\n",
      "\n",
      "\n",
      "\n",
      "\n",
      "\n",
      "\n",
      "\n",
      "\n",
      "\n",
      "\n",
      "\n",
      "\n",
      "\n",
      "\n",
      "\n",
      "\n",
      "\n",
      "\n",
      "\n",
      "\n",
      "\n",
      "\n",
      "\n"
     ]
    }
   ],
   "source": [
    "\n",
    "for i in range(20):\n",
    "    temp = table[table['Publication Year']==2001+i]\n",
    "    pd.value_counts(temp[\"Dominant_Topic\"])\n",
    "    print('\\n')\n",
    "    "
   ]
  },
  {
   "cell_type": "code",
   "execution_count": null,
   "metadata": {},
   "outputs": [],
   "source": []
  }
 ],
 "metadata": {
  "kernelspec": {
   "display_name": "Python 3",
   "language": "python",
   "name": "python3"
  },
  "language_info": {
   "codemirror_mode": {
    "name": "ipython",
    "version": 3
   },
   "file_extension": ".py",
   "mimetype": "text/x-python",
   "name": "python",
   "nbconvert_exporter": "python",
   "pygments_lexer": "ipython3",
   "version": "3.7.6"
  }
 },
 "nbformat": 4,
 "nbformat_minor": 4
}
